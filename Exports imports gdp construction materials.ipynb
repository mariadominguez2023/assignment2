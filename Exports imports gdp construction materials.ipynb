{
 "cells": [
  {
   "cell_type": "code",
   "execution_count": 1,
   "id": "b0a665e1",
   "metadata": {},
   "outputs": [],
   "source": [
    "#Import the libraries\n",
    "\n",
    "import pandas as pd\n",
    "import numpy as np\n",
    "import seaborn as sns\n",
    "from matplotlib import pyplot as plt\n",
    "import matplotlib.pyplot as plt # for visualization\n",
    "%matplotlib inLine\n",
    "sns.set(color_codes=True) \n",
    "\n",
    "import warnings\n",
    "warnings.filterwarnings('ignore') # We can suppress the warnings"
   ]
  },
  {
   "cell_type": "code",
   "execution_count": 2,
   "id": "1feebd45",
   "metadata": {},
   "outputs": [],
   "source": [
    "#load datasets\n",
    "exports = pd.read_csv(\"Exports materials.csv\")"
   ]
  },
  {
   "cell_type": "code",
   "execution_count": 3,
   "id": "4435623c",
   "metadata": {
    "scrolled": true
   },
   "outputs": [
    {
     "data": {
      "text/html": [
       "<div>\n",
       "<style scoped>\n",
       "    .dataframe tbody tr th:only-of-type {\n",
       "        vertical-align: middle;\n",
       "    }\n",
       "\n",
       "    .dataframe tbody tr th {\n",
       "        vertical-align: top;\n",
       "    }\n",
       "\n",
       "    .dataframe thead th {\n",
       "        text-align: right;\n",
       "    }\n",
       "</style>\n",
       "<table border=\"1\" class=\"dataframe\">\n",
       "  <thead>\n",
       "    <tr style=\"text-align: right;\">\n",
       "      <th></th>\n",
       "      <th>country</th>\n",
       "      <th>variable</th>\n",
       "      <th>group</th>\n",
       "      <th>Unit</th>\n",
       "      <th>Date</th>\n",
       "      <th>Value</th>\n",
       "    </tr>\n",
       "  </thead>\n",
       "  <tbody>\n",
       "    <tr>\n",
       "      <th>0</th>\n",
       "      <td>France</td>\n",
       "      <td>Exports</td>\n",
       "      <td>Construction Minerals</td>\n",
       "      <td>NaN</td>\n",
       "      <td>1990</td>\n",
       "      <td>20.4551</td>\n",
       "    </tr>\n",
       "    <tr>\n",
       "      <th>1</th>\n",
       "      <td>France</td>\n",
       "      <td>Exports</td>\n",
       "      <td>Construction Minerals</td>\n",
       "      <td>NaN</td>\n",
       "      <td>1991</td>\n",
       "      <td>20.5547</td>\n",
       "    </tr>\n",
       "    <tr>\n",
       "      <th>2</th>\n",
       "      <td>France</td>\n",
       "      <td>Exports</td>\n",
       "      <td>Construction Minerals</td>\n",
       "      <td>NaN</td>\n",
       "      <td>1992</td>\n",
       "      <td>19.8824</td>\n",
       "    </tr>\n",
       "    <tr>\n",
       "      <th>3</th>\n",
       "      <td>France</td>\n",
       "      <td>Exports</td>\n",
       "      <td>Construction Minerals</td>\n",
       "      <td>NaN</td>\n",
       "      <td>1993</td>\n",
       "      <td>16.3419</td>\n",
       "    </tr>\n",
       "    <tr>\n",
       "      <th>4</th>\n",
       "      <td>France</td>\n",
       "      <td>Exports</td>\n",
       "      <td>Construction Minerals</td>\n",
       "      <td>NaN</td>\n",
       "      <td>1994</td>\n",
       "      <td>19.0280</td>\n",
       "    </tr>\n",
       "  </tbody>\n",
       "</table>\n",
       "</div>"
      ],
      "text/plain": [
       "  country variable                  group  Unit  Date    Value\n",
       "0  France  Exports  Construction Minerals   NaN  1990  20.4551\n",
       "1  France  Exports  Construction Minerals   NaN  1991  20.5547\n",
       "2  France  Exports  Construction Minerals   NaN  1992  19.8824\n",
       "3  France  Exports  Construction Minerals   NaN  1993  16.3419\n",
       "4  France  Exports  Construction Minerals   NaN  1994  19.0280"
      ]
     },
     "execution_count": 3,
     "metadata": {},
     "output_type": "execute_result"
    }
   ],
   "source": [
    "exports.head()"
   ]
  },
  {
   "cell_type": "code",
   "execution_count": 4,
   "id": "19baab8a",
   "metadata": {},
   "outputs": [
    {
     "data": {
      "text/plain": [
       "country       0\n",
       "variable      0\n",
       "group         0\n",
       "Unit        627\n",
       "Date          0\n",
       "Value         0\n",
       "dtype: int64"
      ]
     },
     "execution_count": 4,
     "metadata": {},
     "output_type": "execute_result"
    }
   ],
   "source": [
    "exports.isnull().sum()"
   ]
  },
  {
   "cell_type": "code",
   "execution_count": 5,
   "id": "e3bde35d",
   "metadata": {
    "scrolled": false
   },
   "outputs": [
    {
     "data": {
      "text/plain": [
       "(627, 6)"
      ]
     },
     "execution_count": 5,
     "metadata": {},
     "output_type": "execute_result"
    }
   ],
   "source": [
    "exports.shape"
   ]
  },
  {
   "cell_type": "code",
   "execution_count": 6,
   "id": "46b493a6",
   "metadata": {},
   "outputs": [
    {
     "data": {
      "text/html": [
       "<div>\n",
       "<style scoped>\n",
       "    .dataframe tbody tr th:only-of-type {\n",
       "        vertical-align: middle;\n",
       "    }\n",
       "\n",
       "    .dataframe tbody tr th {\n",
       "        vertical-align: top;\n",
       "    }\n",
       "\n",
       "    .dataframe thead th {\n",
       "        text-align: right;\n",
       "    }\n",
       "</style>\n",
       "<table border=\"1\" class=\"dataframe\">\n",
       "  <thead>\n",
       "    <tr style=\"text-align: right;\">\n",
       "      <th></th>\n",
       "      <th>country</th>\n",
       "      <th>variable</th>\n",
       "      <th>group</th>\n",
       "    </tr>\n",
       "  </thead>\n",
       "  <tbody>\n",
       "    <tr>\n",
       "      <th>count</th>\n",
       "      <td>627</td>\n",
       "      <td>627</td>\n",
       "      <td>627</td>\n",
       "    </tr>\n",
       "    <tr>\n",
       "      <th>unique</th>\n",
       "      <td>8</td>\n",
       "      <td>1</td>\n",
       "      <td>3</td>\n",
       "    </tr>\n",
       "    <tr>\n",
       "      <th>top</th>\n",
       "      <td>France</td>\n",
       "      <td>Exports</td>\n",
       "      <td>Construction Minerals</td>\n",
       "    </tr>\n",
       "    <tr>\n",
       "      <th>freq</th>\n",
       "      <td>93</td>\n",
       "      <td>627</td>\n",
       "      <td>209</td>\n",
       "    </tr>\n",
       "  </tbody>\n",
       "</table>\n",
       "</div>"
      ],
      "text/plain": [
       "       country variable                  group\n",
       "count      627      627                    627\n",
       "unique       8        1                      3\n",
       "top     France  Exports  Construction Minerals\n",
       "freq        93      627                    209"
      ]
     },
     "execution_count": 6,
     "metadata": {},
     "output_type": "execute_result"
    }
   ],
   "source": [
    "exports.describe(include=object)"
   ]
  },
  {
   "cell_type": "code",
   "execution_count": 7,
   "id": "3631ab7e",
   "metadata": {},
   "outputs": [],
   "source": [
    "#drop variable\n",
    "exports = exports.drop(['variable','Unit'], axis=1)\n",
    "exports = exports.rename(columns={\"Value\": \"exports\", \"Date\": \"year\"})"
   ]
  },
  {
   "cell_type": "code",
   "execution_count": 8,
   "id": "f28fc7d6",
   "metadata": {},
   "outputs": [
    {
     "data": {
      "text/html": [
       "<div>\n",
       "<style scoped>\n",
       "    .dataframe tbody tr th:only-of-type {\n",
       "        vertical-align: middle;\n",
       "    }\n",
       "\n",
       "    .dataframe tbody tr th {\n",
       "        vertical-align: top;\n",
       "    }\n",
       "\n",
       "    .dataframe thead th {\n",
       "        text-align: right;\n",
       "    }\n",
       "</style>\n",
       "<table border=\"1\" class=\"dataframe\">\n",
       "  <thead>\n",
       "    <tr style=\"text-align: right;\">\n",
       "      <th></th>\n",
       "      <th>country</th>\n",
       "      <th>group</th>\n",
       "      <th>year</th>\n",
       "      <th>exports</th>\n",
       "    </tr>\n",
       "  </thead>\n",
       "  <tbody>\n",
       "    <tr>\n",
       "      <th>0</th>\n",
       "      <td>France</td>\n",
       "      <td>Construction Minerals</td>\n",
       "      <td>1990</td>\n",
       "      <td>20.4551</td>\n",
       "    </tr>\n",
       "    <tr>\n",
       "      <th>1</th>\n",
       "      <td>France</td>\n",
       "      <td>Construction Minerals</td>\n",
       "      <td>1991</td>\n",
       "      <td>20.5547</td>\n",
       "    </tr>\n",
       "    <tr>\n",
       "      <th>2</th>\n",
       "      <td>France</td>\n",
       "      <td>Construction Minerals</td>\n",
       "      <td>1992</td>\n",
       "      <td>19.8824</td>\n",
       "    </tr>\n",
       "    <tr>\n",
       "      <th>3</th>\n",
       "      <td>France</td>\n",
       "      <td>Construction Minerals</td>\n",
       "      <td>1993</td>\n",
       "      <td>16.3419</td>\n",
       "    </tr>\n",
       "    <tr>\n",
       "      <th>4</th>\n",
       "      <td>France</td>\n",
       "      <td>Construction Minerals</td>\n",
       "      <td>1994</td>\n",
       "      <td>19.0280</td>\n",
       "    </tr>\n",
       "  </tbody>\n",
       "</table>\n",
       "</div>"
      ],
      "text/plain": [
       "  country                  group  year  exports\n",
       "0  France  Construction Minerals  1990  20.4551\n",
       "1  France  Construction Minerals  1991  20.5547\n",
       "2  France  Construction Minerals  1992  19.8824\n",
       "3  France  Construction Minerals  1993  16.3419\n",
       "4  France  Construction Minerals  1994  19.0280"
      ]
     },
     "execution_count": 8,
     "metadata": {},
     "output_type": "execute_result"
    }
   ],
   "source": [
    "exports.head()"
   ]
  },
  {
   "cell_type": "code",
   "execution_count": 9,
   "id": "42ef3d05",
   "metadata": {},
   "outputs": [],
   "source": [
    "imports = pd.read_csv('Imports materials.csv')"
   ]
  },
  {
   "cell_type": "code",
   "execution_count": 10,
   "id": "dcc0f0a9",
   "metadata": {},
   "outputs": [
    {
     "data": {
      "text/html": [
       "<div>\n",
       "<style scoped>\n",
       "    .dataframe tbody tr th:only-of-type {\n",
       "        vertical-align: middle;\n",
       "    }\n",
       "\n",
       "    .dataframe tbody tr th {\n",
       "        vertical-align: top;\n",
       "    }\n",
       "\n",
       "    .dataframe thead th {\n",
       "        text-align: right;\n",
       "    }\n",
       "</style>\n",
       "<table border=\"1\" class=\"dataframe\">\n",
       "  <thead>\n",
       "    <tr style=\"text-align: right;\">\n",
       "      <th></th>\n",
       "      <th>country</th>\n",
       "      <th>variable</th>\n",
       "      <th>group</th>\n",
       "      <th>Unit</th>\n",
       "      <th>Date</th>\n",
       "      <th>Value</th>\n",
       "    </tr>\n",
       "  </thead>\n",
       "  <tbody>\n",
       "    <tr>\n",
       "      <th>0</th>\n",
       "      <td>France</td>\n",
       "      <td>Imports</td>\n",
       "      <td>Construction Minerals</td>\n",
       "      <td>NaN</td>\n",
       "      <td>1990</td>\n",
       "      <td>13.4569</td>\n",
       "    </tr>\n",
       "    <tr>\n",
       "      <th>1</th>\n",
       "      <td>France</td>\n",
       "      <td>Imports</td>\n",
       "      <td>Construction Minerals</td>\n",
       "      <td>NaN</td>\n",
       "      <td>1991</td>\n",
       "      <td>14.8171</td>\n",
       "    </tr>\n",
       "    <tr>\n",
       "      <th>2</th>\n",
       "      <td>France</td>\n",
       "      <td>Imports</td>\n",
       "      <td>Construction Minerals</td>\n",
       "      <td>NaN</td>\n",
       "      <td>1992</td>\n",
       "      <td>13.9346</td>\n",
       "    </tr>\n",
       "    <tr>\n",
       "      <th>3</th>\n",
       "      <td>France</td>\n",
       "      <td>Imports</td>\n",
       "      <td>Construction Minerals</td>\n",
       "      <td>NaN</td>\n",
       "      <td>1993</td>\n",
       "      <td>10.6789</td>\n",
       "    </tr>\n",
       "    <tr>\n",
       "      <th>4</th>\n",
       "      <td>France</td>\n",
       "      <td>Imports</td>\n",
       "      <td>Construction Minerals</td>\n",
       "      <td>NaN</td>\n",
       "      <td>1994</td>\n",
       "      <td>11.4869</td>\n",
       "    </tr>\n",
       "  </tbody>\n",
       "</table>\n",
       "</div>"
      ],
      "text/plain": [
       "  country variable                  group  Unit  Date    Value\n",
       "0  France  Imports  Construction Minerals   NaN  1990  13.4569\n",
       "1  France  Imports  Construction Minerals   NaN  1991  14.8171\n",
       "2  France  Imports  Construction Minerals   NaN  1992  13.9346\n",
       "3  France  Imports  Construction Minerals   NaN  1993  10.6789\n",
       "4  France  Imports  Construction Minerals   NaN  1994  11.4869"
      ]
     },
     "execution_count": 10,
     "metadata": {},
     "output_type": "execute_result"
    }
   ],
   "source": [
    "imports.head()"
   ]
  },
  {
   "cell_type": "code",
   "execution_count": 11,
   "id": "c0b30842",
   "metadata": {},
   "outputs": [
    {
     "data": {
      "text/plain": [
       "country       0\n",
       "variable      0\n",
       "group         0\n",
       "Unit        627\n",
       "Date          0\n",
       "Value         0\n",
       "dtype: int64"
      ]
     },
     "execution_count": 11,
     "metadata": {},
     "output_type": "execute_result"
    }
   ],
   "source": [
    "imports.isnull().sum()"
   ]
  },
  {
   "cell_type": "code",
   "execution_count": 12,
   "id": "bbfe456e",
   "metadata": {},
   "outputs": [],
   "source": [
    "imports = imports.drop(['variable','Unit'], axis=1)\n",
    "imports = imports.rename(columns={\"Value\": \"imports\", \"Date\": \"year\"})"
   ]
  },
  {
   "cell_type": "code",
   "execution_count": 13,
   "id": "957bfc3f",
   "metadata": {},
   "outputs": [
    {
     "data": {
      "text/html": [
       "<div>\n",
       "<style scoped>\n",
       "    .dataframe tbody tr th:only-of-type {\n",
       "        vertical-align: middle;\n",
       "    }\n",
       "\n",
       "    .dataframe tbody tr th {\n",
       "        vertical-align: top;\n",
       "    }\n",
       "\n",
       "    .dataframe thead th {\n",
       "        text-align: right;\n",
       "    }\n",
       "</style>\n",
       "<table border=\"1\" class=\"dataframe\">\n",
       "  <thead>\n",
       "    <tr style=\"text-align: right;\">\n",
       "      <th></th>\n",
       "      <th>country</th>\n",
       "      <th>group</th>\n",
       "      <th>year</th>\n",
       "      <th>imports</th>\n",
       "    </tr>\n",
       "  </thead>\n",
       "  <tbody>\n",
       "    <tr>\n",
       "      <th>0</th>\n",
       "      <td>France</td>\n",
       "      <td>Construction Minerals</td>\n",
       "      <td>1990</td>\n",
       "      <td>13.4569</td>\n",
       "    </tr>\n",
       "    <tr>\n",
       "      <th>1</th>\n",
       "      <td>France</td>\n",
       "      <td>Construction Minerals</td>\n",
       "      <td>1991</td>\n",
       "      <td>14.8171</td>\n",
       "    </tr>\n",
       "    <tr>\n",
       "      <th>2</th>\n",
       "      <td>France</td>\n",
       "      <td>Construction Minerals</td>\n",
       "      <td>1992</td>\n",
       "      <td>13.9346</td>\n",
       "    </tr>\n",
       "    <tr>\n",
       "      <th>3</th>\n",
       "      <td>France</td>\n",
       "      <td>Construction Minerals</td>\n",
       "      <td>1993</td>\n",
       "      <td>10.6789</td>\n",
       "    </tr>\n",
       "    <tr>\n",
       "      <th>4</th>\n",
       "      <td>France</td>\n",
       "      <td>Construction Minerals</td>\n",
       "      <td>1994</td>\n",
       "      <td>11.4869</td>\n",
       "    </tr>\n",
       "  </tbody>\n",
       "</table>\n",
       "</div>"
      ],
      "text/plain": [
       "  country                  group  year  imports\n",
       "0  France  Construction Minerals  1990  13.4569\n",
       "1  France  Construction Minerals  1991  14.8171\n",
       "2  France  Construction Minerals  1992  13.9346\n",
       "3  France  Construction Minerals  1993  10.6789\n",
       "4  France  Construction Minerals  1994  11.4869"
      ]
     },
     "execution_count": 13,
     "metadata": {},
     "output_type": "execute_result"
    }
   ],
   "source": [
    "imports.head()"
   ]
  },
  {
   "cell_type": "code",
   "execution_count": 14,
   "id": "daf4f4cc",
   "metadata": {},
   "outputs": [],
   "source": [
    "#loading second dataset\n",
    "gdp = pd.read_csv('Gdp materials.csv')"
   ]
  },
  {
   "cell_type": "code",
   "execution_count": 15,
   "id": "446d0c42",
   "metadata": {},
   "outputs": [
    {
     "data": {
      "text/html": [
       "<div>\n",
       "<style scoped>\n",
       "    .dataframe tbody tr th:only-of-type {\n",
       "        vertical-align: middle;\n",
       "    }\n",
       "\n",
       "    .dataframe tbody tr th {\n",
       "        vertical-align: top;\n",
       "    }\n",
       "\n",
       "    .dataframe thead th {\n",
       "        text-align: right;\n",
       "    }\n",
       "</style>\n",
       "<table border=\"1\" class=\"dataframe\">\n",
       "  <thead>\n",
       "    <tr style=\"text-align: right;\">\n",
       "      <th></th>\n",
       "      <th>country</th>\n",
       "      <th>variable</th>\n",
       "      <th>group</th>\n",
       "      <th>Unit</th>\n",
       "      <th>Date</th>\n",
       "      <th>Value</th>\n",
       "    </tr>\n",
       "  </thead>\n",
       "  <tbody>\n",
       "    <tr>\n",
       "      <th>0</th>\n",
       "      <td>Denmark</td>\n",
       "      <td>Gross Domestic Product Per Direct Material Inp...</td>\n",
       "      <td>Construction Minerals</td>\n",
       "      <td>NaN</td>\n",
       "      <td>1993</td>\n",
       "      <td>3.9179</td>\n",
       "    </tr>\n",
       "    <tr>\n",
       "      <th>1</th>\n",
       "      <td>Denmark</td>\n",
       "      <td>Gross Domestic Product Per Direct Material Inp...</td>\n",
       "      <td>Construction Minerals</td>\n",
       "      <td>NaN</td>\n",
       "      <td>1994</td>\n",
       "      <td>3.8836</td>\n",
       "    </tr>\n",
       "    <tr>\n",
       "      <th>2</th>\n",
       "      <td>Denmark</td>\n",
       "      <td>Gross Domestic Product Per Direct Material Inp...</td>\n",
       "      <td>Construction Minerals</td>\n",
       "      <td>NaN</td>\n",
       "      <td>1995</td>\n",
       "      <td>3.6226</td>\n",
       "    </tr>\n",
       "    <tr>\n",
       "      <th>3</th>\n",
       "      <td>Denmark</td>\n",
       "      <td>Gross Domestic Product Per Direct Material Inp...</td>\n",
       "      <td>Construction Minerals</td>\n",
       "      <td>NaN</td>\n",
       "      <td>1996</td>\n",
       "      <td>3.3838</td>\n",
       "    </tr>\n",
       "    <tr>\n",
       "      <th>4</th>\n",
       "      <td>Denmark</td>\n",
       "      <td>Gross Domestic Product Per Direct Material Inp...</td>\n",
       "      <td>Construction Minerals</td>\n",
       "      <td>NaN</td>\n",
       "      <td>1997</td>\n",
       "      <td>3.2544</td>\n",
       "    </tr>\n",
       "  </tbody>\n",
       "</table>\n",
       "</div>"
      ],
      "text/plain": [
       "   country                                           variable  \\\n",
       "0  Denmark  Gross Domestic Product Per Direct Material Inp...   \n",
       "1  Denmark  Gross Domestic Product Per Direct Material Inp...   \n",
       "2  Denmark  Gross Domestic Product Per Direct Material Inp...   \n",
       "3  Denmark  Gross Domestic Product Per Direct Material Inp...   \n",
       "4  Denmark  Gross Domestic Product Per Direct Material Inp...   \n",
       "\n",
       "                   group  Unit  Date   Value  \n",
       "0  Construction Minerals   NaN  1993  3.9179  \n",
       "1  Construction Minerals   NaN  1994  3.8836  \n",
       "2  Construction Minerals   NaN  1995  3.6226  \n",
       "3  Construction Minerals   NaN  1996  3.3838  \n",
       "4  Construction Minerals   NaN  1997  3.2544  "
      ]
     },
     "execution_count": 15,
     "metadata": {},
     "output_type": "execute_result"
    }
   ],
   "source": [
    "gdp.head()"
   ]
  },
  {
   "cell_type": "code",
   "execution_count": 16,
   "id": "e3ad1128",
   "metadata": {},
   "outputs": [
    {
     "data": {
      "text/plain": [
       "country       0\n",
       "variable      0\n",
       "group         0\n",
       "Unit        625\n",
       "Date          0\n",
       "Value         0\n",
       "dtype: int64"
      ]
     },
     "execution_count": 16,
     "metadata": {},
     "output_type": "execute_result"
    }
   ],
   "source": [
    "gdp.isnull().sum()"
   ]
  },
  {
   "cell_type": "code",
   "execution_count": 17,
   "id": "4b7a247f",
   "metadata": {},
   "outputs": [
    {
     "data": {
      "text/html": [
       "<div>\n",
       "<style scoped>\n",
       "    .dataframe tbody tr th:only-of-type {\n",
       "        vertical-align: middle;\n",
       "    }\n",
       "\n",
       "    .dataframe tbody tr th {\n",
       "        vertical-align: top;\n",
       "    }\n",
       "\n",
       "    .dataframe thead th {\n",
       "        text-align: right;\n",
       "    }\n",
       "</style>\n",
       "<table border=\"1\" class=\"dataframe\">\n",
       "  <thead>\n",
       "    <tr style=\"text-align: right;\">\n",
       "      <th></th>\n",
       "      <th>country</th>\n",
       "      <th>variable</th>\n",
       "      <th>group</th>\n",
       "    </tr>\n",
       "  </thead>\n",
       "  <tbody>\n",
       "    <tr>\n",
       "      <th>count</th>\n",
       "      <td>625</td>\n",
       "      <td>625</td>\n",
       "      <td>625</td>\n",
       "    </tr>\n",
       "    <tr>\n",
       "      <th>unique</th>\n",
       "      <td>8</td>\n",
       "      <td>1</td>\n",
       "      <td>3</td>\n",
       "    </tr>\n",
       "    <tr>\n",
       "      <th>top</th>\n",
       "      <td>France</td>\n",
       "      <td>Gross Domestic Product Per Direct Material Inp...</td>\n",
       "      <td>Non-Metallic Minerals</td>\n",
       "    </tr>\n",
       "    <tr>\n",
       "      <th>freq</th>\n",
       "      <td>92</td>\n",
       "      <td>625</td>\n",
       "      <td>209</td>\n",
       "    </tr>\n",
       "  </tbody>\n",
       "</table>\n",
       "</div>"
      ],
      "text/plain": [
       "       country                                           variable  \\\n",
       "count      625                                                625   \n",
       "unique       8                                                  1   \n",
       "top     France  Gross Domestic Product Per Direct Material Inp...   \n",
       "freq        92                                                625   \n",
       "\n",
       "                        group  \n",
       "count                     625  \n",
       "unique                      3  \n",
       "top     Non-Metallic Minerals  \n",
       "freq                      209  "
      ]
     },
     "execution_count": 17,
     "metadata": {},
     "output_type": "execute_result"
    }
   ],
   "source": [
    "gdp.describe(include=object)"
   ]
  },
  {
   "cell_type": "code",
   "execution_count": 18,
   "id": "5fefaaf1",
   "metadata": {},
   "outputs": [
    {
     "data": {
      "text/plain": [
       "(625, 6)"
      ]
     },
     "execution_count": 18,
     "metadata": {},
     "output_type": "execute_result"
    }
   ],
   "source": [
    "gdp.shape"
   ]
  },
  {
   "cell_type": "code",
   "execution_count": 19,
   "id": "7deb0926",
   "metadata": {},
   "outputs": [],
   "source": [
    "# We are going to drop asset10 and unit columns, this second one as only contains null values and it \n",
    "# can not be analized\n",
    "gdp = gdp.drop(['variable','Unit'], axis=1)\n",
    "gdp = gdp.rename(columns={\"Value\": \"gdp\", \"Date\": \"year\"})"
   ]
  },
  {
   "cell_type": "code",
   "execution_count": 20,
   "id": "ffc3baa2",
   "metadata": {},
   "outputs": [
    {
     "data": {
      "text/html": [
       "<div>\n",
       "<style scoped>\n",
       "    .dataframe tbody tr th:only-of-type {\n",
       "        vertical-align: middle;\n",
       "    }\n",
       "\n",
       "    .dataframe tbody tr th {\n",
       "        vertical-align: top;\n",
       "    }\n",
       "\n",
       "    .dataframe thead th {\n",
       "        text-align: right;\n",
       "    }\n",
       "</style>\n",
       "<table border=\"1\" class=\"dataframe\">\n",
       "  <thead>\n",
       "    <tr style=\"text-align: right;\">\n",
       "      <th></th>\n",
       "      <th>country</th>\n",
       "      <th>group</th>\n",
       "      <th>year</th>\n",
       "      <th>gdp</th>\n",
       "    </tr>\n",
       "  </thead>\n",
       "  <tbody>\n",
       "    <tr>\n",
       "      <th>0</th>\n",
       "      <td>Denmark</td>\n",
       "      <td>Construction Minerals</td>\n",
       "      <td>1993</td>\n",
       "      <td>3.9179</td>\n",
       "    </tr>\n",
       "    <tr>\n",
       "      <th>1</th>\n",
       "      <td>Denmark</td>\n",
       "      <td>Construction Minerals</td>\n",
       "      <td>1994</td>\n",
       "      <td>3.8836</td>\n",
       "    </tr>\n",
       "    <tr>\n",
       "      <th>2</th>\n",
       "      <td>Denmark</td>\n",
       "      <td>Construction Minerals</td>\n",
       "      <td>1995</td>\n",
       "      <td>3.6226</td>\n",
       "    </tr>\n",
       "    <tr>\n",
       "      <th>3</th>\n",
       "      <td>Denmark</td>\n",
       "      <td>Construction Minerals</td>\n",
       "      <td>1996</td>\n",
       "      <td>3.3838</td>\n",
       "    </tr>\n",
       "    <tr>\n",
       "      <th>4</th>\n",
       "      <td>Denmark</td>\n",
       "      <td>Construction Minerals</td>\n",
       "      <td>1997</td>\n",
       "      <td>3.2544</td>\n",
       "    </tr>\n",
       "  </tbody>\n",
       "</table>\n",
       "</div>"
      ],
      "text/plain": [
       "   country                  group  year     gdp\n",
       "0  Denmark  Construction Minerals  1993  3.9179\n",
       "1  Denmark  Construction Minerals  1994  3.8836\n",
       "2  Denmark  Construction Minerals  1995  3.6226\n",
       "3  Denmark  Construction Minerals  1996  3.3838\n",
       "4  Denmark  Construction Minerals  1997  3.2544"
      ]
     },
     "execution_count": 20,
     "metadata": {},
     "output_type": "execute_result"
    }
   ],
   "source": [
    "gdp.head()"
   ]
  },
  {
   "cell_type": "code",
   "execution_count": 21,
   "id": "99f76a95",
   "metadata": {},
   "outputs": [],
   "source": [
    "const = pd.merge(exports, imports, how=\"outer\")"
   ]
  },
  {
   "cell_type": "code",
   "execution_count": 22,
   "id": "18fa213d",
   "metadata": {},
   "outputs": [
    {
     "data": {
      "text/html": [
       "<div>\n",
       "<style scoped>\n",
       "    .dataframe tbody tr th:only-of-type {\n",
       "        vertical-align: middle;\n",
       "    }\n",
       "\n",
       "    .dataframe tbody tr th {\n",
       "        vertical-align: top;\n",
       "    }\n",
       "\n",
       "    .dataframe thead th {\n",
       "        text-align: right;\n",
       "    }\n",
       "</style>\n",
       "<table border=\"1\" class=\"dataframe\">\n",
       "  <thead>\n",
       "    <tr style=\"text-align: right;\">\n",
       "      <th></th>\n",
       "      <th>country</th>\n",
       "      <th>group</th>\n",
       "      <th>year</th>\n",
       "      <th>exports</th>\n",
       "      <th>imports</th>\n",
       "    </tr>\n",
       "  </thead>\n",
       "  <tbody>\n",
       "    <tr>\n",
       "      <th>0</th>\n",
       "      <td>France</td>\n",
       "      <td>Construction Minerals</td>\n",
       "      <td>1990</td>\n",
       "      <td>20.4551</td>\n",
       "      <td>13.4569</td>\n",
       "    </tr>\n",
       "    <tr>\n",
       "      <th>1</th>\n",
       "      <td>France</td>\n",
       "      <td>Construction Minerals</td>\n",
       "      <td>1991</td>\n",
       "      <td>20.5547</td>\n",
       "      <td>14.8171</td>\n",
       "    </tr>\n",
       "    <tr>\n",
       "      <th>2</th>\n",
       "      <td>France</td>\n",
       "      <td>Construction Minerals</td>\n",
       "      <td>1992</td>\n",
       "      <td>19.8824</td>\n",
       "      <td>13.9346</td>\n",
       "    </tr>\n",
       "    <tr>\n",
       "      <th>3</th>\n",
       "      <td>France</td>\n",
       "      <td>Construction Minerals</td>\n",
       "      <td>1993</td>\n",
       "      <td>16.3419</td>\n",
       "      <td>10.6789</td>\n",
       "    </tr>\n",
       "    <tr>\n",
       "      <th>4</th>\n",
       "      <td>France</td>\n",
       "      <td>Construction Minerals</td>\n",
       "      <td>1994</td>\n",
       "      <td>19.0280</td>\n",
       "      <td>11.4869</td>\n",
       "    </tr>\n",
       "  </tbody>\n",
       "</table>\n",
       "</div>"
      ],
      "text/plain": [
       "  country                  group  year  exports  imports\n",
       "0  France  Construction Minerals  1990  20.4551  13.4569\n",
       "1  France  Construction Minerals  1991  20.5547  14.8171\n",
       "2  France  Construction Minerals  1992  19.8824  13.9346\n",
       "3  France  Construction Minerals  1993  16.3419  10.6789\n",
       "4  France  Construction Minerals  1994  19.0280  11.4869"
      ]
     },
     "execution_count": 22,
     "metadata": {},
     "output_type": "execute_result"
    }
   ],
   "source": [
    "const.head()"
   ]
  },
  {
   "cell_type": "code",
   "execution_count": 23,
   "id": "2ccdd275",
   "metadata": {},
   "outputs": [
    {
     "data": {
      "text/plain": [
       "(627, 5)"
      ]
     },
     "execution_count": 23,
     "metadata": {},
     "output_type": "execute_result"
    }
   ],
   "source": [
    "const.shape"
   ]
  },
  {
   "cell_type": "code",
   "execution_count": 24,
   "id": "c7f08d7d",
   "metadata": {},
   "outputs": [],
   "source": [
    "const1 = pd.merge(const, gdp, how=\"outer\")"
   ]
  },
  {
   "cell_type": "code",
   "execution_count": 25,
   "id": "5662cac7",
   "metadata": {},
   "outputs": [
    {
     "data": {
      "text/html": [
       "<div>\n",
       "<style scoped>\n",
       "    .dataframe tbody tr th:only-of-type {\n",
       "        vertical-align: middle;\n",
       "    }\n",
       "\n",
       "    .dataframe tbody tr th {\n",
       "        vertical-align: top;\n",
       "    }\n",
       "\n",
       "    .dataframe thead th {\n",
       "        text-align: right;\n",
       "    }\n",
       "</style>\n",
       "<table border=\"1\" class=\"dataframe\">\n",
       "  <thead>\n",
       "    <tr style=\"text-align: right;\">\n",
       "      <th></th>\n",
       "      <th>country</th>\n",
       "      <th>group</th>\n",
       "      <th>year</th>\n",
       "      <th>exports</th>\n",
       "      <th>imports</th>\n",
       "      <th>gdp</th>\n",
       "    </tr>\n",
       "  </thead>\n",
       "  <tbody>\n",
       "    <tr>\n",
       "      <th>0</th>\n",
       "      <td>France</td>\n",
       "      <td>Construction Minerals</td>\n",
       "      <td>1990</td>\n",
       "      <td>20.4551</td>\n",
       "      <td>13.4569</td>\n",
       "      <td>4.1810</td>\n",
       "    </tr>\n",
       "    <tr>\n",
       "      <th>1</th>\n",
       "      <td>France</td>\n",
       "      <td>Construction Minerals</td>\n",
       "      <td>1991</td>\n",
       "      <td>20.5547</td>\n",
       "      <td>14.8171</td>\n",
       "      <td>4.1524</td>\n",
       "    </tr>\n",
       "    <tr>\n",
       "      <th>2</th>\n",
       "      <td>France</td>\n",
       "      <td>Construction Minerals</td>\n",
       "      <td>1992</td>\n",
       "      <td>19.8824</td>\n",
       "      <td>13.9346</td>\n",
       "      <td>4.5381</td>\n",
       "    </tr>\n",
       "    <tr>\n",
       "      <th>3</th>\n",
       "      <td>France</td>\n",
       "      <td>Construction Minerals</td>\n",
       "      <td>1993</td>\n",
       "      <td>16.3419</td>\n",
       "      <td>10.6789</td>\n",
       "      <td>4.8361</td>\n",
       "    </tr>\n",
       "    <tr>\n",
       "      <th>4</th>\n",
       "      <td>France</td>\n",
       "      <td>Construction Minerals</td>\n",
       "      <td>1994</td>\n",
       "      <td>19.0280</td>\n",
       "      <td>11.4869</td>\n",
       "      <td>4.6626</td>\n",
       "    </tr>\n",
       "  </tbody>\n",
       "</table>\n",
       "</div>"
      ],
      "text/plain": [
       "  country                  group  year  exports  imports     gdp\n",
       "0  France  Construction Minerals  1990  20.4551  13.4569  4.1810\n",
       "1  France  Construction Minerals  1991  20.5547  14.8171  4.1524\n",
       "2  France  Construction Minerals  1992  19.8824  13.9346  4.5381\n",
       "3  France  Construction Minerals  1993  16.3419  10.6789  4.8361\n",
       "4  France  Construction Minerals  1994  19.0280  11.4869  4.6626"
      ]
     },
     "execution_count": 25,
     "metadata": {},
     "output_type": "execute_result"
    }
   ],
   "source": [
    "const1.head()"
   ]
  },
  {
   "cell_type": "code",
   "execution_count": 26,
   "id": "37948069",
   "metadata": {},
   "outputs": [
    {
     "data": {
      "text/plain": [
       "(627, 6)"
      ]
     },
     "execution_count": 26,
     "metadata": {},
     "output_type": "execute_result"
    }
   ],
   "source": [
    "const1.shape"
   ]
  },
  {
   "cell_type": "code",
   "execution_count": 27,
   "id": "3e4b210c",
   "metadata": {},
   "outputs": [
    {
     "name": "stdout",
     "output_type": "stream",
     "text": [
      "<class 'pandas.core.frame.DataFrame'>\n",
      "Int64Index: 627 entries, 0 to 626\n",
      "Data columns (total 6 columns):\n",
      " #   Column   Non-Null Count  Dtype  \n",
      "---  ------   --------------  -----  \n",
      " 0   country  627 non-null    object \n",
      " 1   group    627 non-null    object \n",
      " 2   year     627 non-null    int64  \n",
      " 3   exports  627 non-null    float64\n",
      " 4   imports  627 non-null    float64\n",
      " 5   gdp      625 non-null    float64\n",
      "dtypes: float64(3), int64(1), object(2)\n",
      "memory usage: 34.3+ KB\n"
     ]
    }
   ],
   "source": [
    "const1.info()"
   ]
  },
  {
   "cell_type": "code",
   "execution_count": 28,
   "id": "079fe020",
   "metadata": {},
   "outputs": [],
   "source": [
    "# if something is bigger that x year, I want to keep it. If not, I do not want to keep it\n",
    "# we will be selecting anything that is greated than 1993\n",
    "const1=const1[const1[\"year\"].astype(\"int64\") > 1993]"
   ]
  },
  {
   "cell_type": "code",
   "execution_count": 29,
   "id": "5f4befdc",
   "metadata": {},
   "outputs": [
    {
     "data": {
      "text/plain": [
       "1994"
      ]
     },
     "execution_count": 29,
     "metadata": {},
     "output_type": "execute_result"
    }
   ],
   "source": [
    "#Set the lower limit for the year column as 1994 so that the column consists of int64 values \n",
    "#for 1964 and onward\n",
    "min(const1.year)"
   ]
  },
  {
   "cell_type": "code",
   "execution_count": 30,
   "id": "2a1a0de9",
   "metadata": {},
   "outputs": [
    {
     "data": {
      "text/html": [
       "<div>\n",
       "<style scoped>\n",
       "    .dataframe tbody tr th:only-of-type {\n",
       "        vertical-align: middle;\n",
       "    }\n",
       "\n",
       "    .dataframe tbody tr th {\n",
       "        vertical-align: top;\n",
       "    }\n",
       "\n",
       "    .dataframe thead th {\n",
       "        text-align: right;\n",
       "    }\n",
       "</style>\n",
       "<table border=\"1\" class=\"dataframe\">\n",
       "  <thead>\n",
       "    <tr style=\"text-align: right;\">\n",
       "      <th></th>\n",
       "      <th>country</th>\n",
       "      <th>group</th>\n",
       "      <th>year</th>\n",
       "      <th>exports</th>\n",
       "      <th>imports</th>\n",
       "      <th>gdp</th>\n",
       "    </tr>\n",
       "  </thead>\n",
       "  <tbody>\n",
       "    <tr>\n",
       "      <th>4</th>\n",
       "      <td>France</td>\n",
       "      <td>Construction Minerals</td>\n",
       "      <td>1994</td>\n",
       "      <td>19.0280</td>\n",
       "      <td>11.4869</td>\n",
       "      <td>4.6626</td>\n",
       "    </tr>\n",
       "    <tr>\n",
       "      <th>5</th>\n",
       "      <td>France</td>\n",
       "      <td>Construction Minerals</td>\n",
       "      <td>1995</td>\n",
       "      <td>19.0499</td>\n",
       "      <td>10.7655</td>\n",
       "      <td>4.7684</td>\n",
       "    </tr>\n",
       "    <tr>\n",
       "      <th>6</th>\n",
       "      <td>France</td>\n",
       "      <td>Construction Minerals</td>\n",
       "      <td>1996</td>\n",
       "      <td>17.5897</td>\n",
       "      <td>11.3040</td>\n",
       "      <td>5.2146</td>\n",
       "    </tr>\n",
       "    <tr>\n",
       "      <th>7</th>\n",
       "      <td>France</td>\n",
       "      <td>Construction Minerals</td>\n",
       "      <td>1997</td>\n",
       "      <td>18.7944</td>\n",
       "      <td>11.9340</td>\n",
       "      <td>5.1913</td>\n",
       "    </tr>\n",
       "    <tr>\n",
       "      <th>8</th>\n",
       "      <td>France</td>\n",
       "      <td>Construction Minerals</td>\n",
       "      <td>1998</td>\n",
       "      <td>17.8485</td>\n",
       "      <td>12.9823</td>\n",
       "      <td>5.2127</td>\n",
       "    </tr>\n",
       "  </tbody>\n",
       "</table>\n",
       "</div>"
      ],
      "text/plain": [
       "  country                  group  year  exports  imports     gdp\n",
       "4  France  Construction Minerals  1994  19.0280  11.4869  4.6626\n",
       "5  France  Construction Minerals  1995  19.0499  10.7655  4.7684\n",
       "6  France  Construction Minerals  1996  17.5897  11.3040  5.2146\n",
       "7  France  Construction Minerals  1997  18.7944  11.9340  5.1913\n",
       "8  France  Construction Minerals  1998  17.8485  12.9823  5.2127"
      ]
     },
     "execution_count": 30,
     "metadata": {},
     "output_type": "execute_result"
    }
   ],
   "source": [
    "const1.head()"
   ]
  },
  {
   "cell_type": "code",
   "execution_count": 31,
   "id": "4eb7c94b",
   "metadata": {},
   "outputs": [
    {
     "data": {
      "text/plain": [
       "(603, 6)"
      ]
     },
     "execution_count": 31,
     "metadata": {},
     "output_type": "execute_result"
    }
   ],
   "source": [
    "const1.shape"
   ]
  },
  {
   "cell_type": "code",
   "execution_count": 32,
   "id": "501d684b",
   "metadata": {},
   "outputs": [
    {
     "name": "stdout",
     "output_type": "stream",
     "text": [
      "<class 'pandas.core.frame.DataFrame'>\n",
      "Int64Index: 603 entries, 4 to 626\n",
      "Data columns (total 6 columns):\n",
      " #   Column   Non-Null Count  Dtype  \n",
      "---  ------   --------------  -----  \n",
      " 0   country  603 non-null    object \n",
      " 1   group    603 non-null    object \n",
      " 2   year     603 non-null    int64  \n",
      " 3   exports  603 non-null    float64\n",
      " 4   imports  603 non-null    float64\n",
      " 5   gdp      601 non-null    float64\n",
      "dtypes: float64(3), int64(1), object(2)\n",
      "memory usage: 33.0+ KB\n"
     ]
    }
   ],
   "source": [
    "const1.info()"
   ]
  },
  {
   "cell_type": "code",
   "execution_count": 33,
   "id": "db7dfbe5",
   "metadata": {},
   "outputs": [],
   "source": [
    "#const1= const1.sort_values(by=[\"country\",\"year\"])"
   ]
  },
  {
   "cell_type": "code",
   "execution_count": 34,
   "id": "16560cad",
   "metadata": {},
   "outputs": [
    {
     "data": {
      "text/plain": [
       "country    0\n",
       "group      0\n",
       "year       0\n",
       "exports    0\n",
       "imports    0\n",
       "gdp        2\n",
       "dtype: int64"
      ]
     },
     "execution_count": 34,
     "metadata": {},
     "output_type": "execute_result"
    }
   ],
   "source": [
    "const1.isnull().sum()"
   ]
  },
  {
   "cell_type": "code",
   "execution_count": 35,
   "id": "2b3a053f",
   "metadata": {},
   "outputs": [],
   "source": [
    "const1=const1.dropna()"
   ]
  },
  {
   "cell_type": "code",
   "execution_count": 36,
   "id": "94a53fa1",
   "metadata": {},
   "outputs": [
    {
     "data": {
      "text/plain": [
       "country    0\n",
       "group      0\n",
       "year       0\n",
       "exports    0\n",
       "imports    0\n",
       "gdp        0\n",
       "dtype: int64"
      ]
     },
     "execution_count": 36,
     "metadata": {},
     "output_type": "execute_result"
    }
   ],
   "source": [
    "const1.isnull().sum()"
   ]
  },
  {
   "cell_type": "code",
   "execution_count": 37,
   "id": "e6b073bf",
   "metadata": {},
   "outputs": [
    {
     "name": "stdout",
     "output_type": "stream",
     "text": [
      "<class 'pandas.core.frame.DataFrame'>\n",
      "Int64Index: 601 entries, 4 to 626\n",
      "Data columns (total 6 columns):\n",
      " #   Column   Non-Null Count  Dtype  \n",
      "---  ------   --------------  -----  \n",
      " 0   country  601 non-null    object \n",
      " 1   group    601 non-null    object \n",
      " 2   year     601 non-null    int64  \n",
      " 3   exports  601 non-null    float64\n",
      " 4   imports  601 non-null    float64\n",
      " 5   gdp      601 non-null    float64\n",
      "dtypes: float64(3), int64(1), object(2)\n",
      "memory usage: 32.9+ KB\n"
     ]
    }
   ],
   "source": [
    "const1.info()"
   ]
  },
  {
   "cell_type": "code",
   "execution_count": 38,
   "id": "705584e4",
   "metadata": {},
   "outputs": [],
   "source": [
    "#gdp in \n",
    "const_1995 = const1.query(\"year==1995\")"
   ]
  },
  {
   "cell_type": "code",
   "execution_count": 39,
   "id": "3ac02b24",
   "metadata": {},
   "outputs": [
    {
     "data": {
      "text/html": [
       "<div>\n",
       "<style scoped>\n",
       "    .dataframe tbody tr th:only-of-type {\n",
       "        vertical-align: middle;\n",
       "    }\n",
       "\n",
       "    .dataframe tbody tr th {\n",
       "        vertical-align: top;\n",
       "    }\n",
       "\n",
       "    .dataframe thead th {\n",
       "        text-align: right;\n",
       "    }\n",
       "</style>\n",
       "<table border=\"1\" class=\"dataframe\">\n",
       "  <thead>\n",
       "    <tr style=\"text-align: right;\">\n",
       "      <th></th>\n",
       "      <th>country</th>\n",
       "      <th>group</th>\n",
       "      <th>year</th>\n",
       "      <th>exports</th>\n",
       "      <th>imports</th>\n",
       "      <th>gdp</th>\n",
       "    </tr>\n",
       "  </thead>\n",
       "  <tbody>\n",
       "    <tr>\n",
       "      <th>5</th>\n",
       "      <td>France</td>\n",
       "      <td>Construction Minerals</td>\n",
       "      <td>1995</td>\n",
       "      <td>19.0499</td>\n",
       "      <td>10.7655</td>\n",
       "      <td>4.7684</td>\n",
       "    </tr>\n",
       "    <tr>\n",
       "      <th>36</th>\n",
       "      <td>France</td>\n",
       "      <td>Metals</td>\n",
       "      <td>1995</td>\n",
       "      <td>30.7636</td>\n",
       "      <td>51.2248</td>\n",
       "      <td>36.8611</td>\n",
       "    </tr>\n",
       "    <tr>\n",
       "      <th>67</th>\n",
       "      <td>France</td>\n",
       "      <td>Non-Metallic Minerals</td>\n",
       "      <td>1995</td>\n",
       "      <td>30.8499</td>\n",
       "      <td>32.1504</td>\n",
       "      <td>4.4100</td>\n",
       "    </tr>\n",
       "    <tr>\n",
       "      <th>160</th>\n",
       "      <td>Italy</td>\n",
       "      <td>Construction Minerals</td>\n",
       "      <td>1995</td>\n",
       "      <td>11.2880</td>\n",
       "      <td>7.8880</td>\n",
       "      <td>5.5897</td>\n",
       "    </tr>\n",
       "    <tr>\n",
       "      <th>190</th>\n",
       "      <td>Italy</td>\n",
       "      <td>Metals</td>\n",
       "      <td>1995</td>\n",
       "      <td>23.4810</td>\n",
       "      <td>51.2910</td>\n",
       "      <td>39.0507</td>\n",
       "    </tr>\n",
       "  </tbody>\n",
       "</table>\n",
       "</div>"
      ],
      "text/plain": [
       "    country                  group  year  exports  imports      gdp\n",
       "5    France  Construction Minerals  1995  19.0499  10.7655   4.7684\n",
       "36   France                 Metals  1995  30.7636  51.2248  36.8611\n",
       "67   France  Non-Metallic Minerals  1995  30.8499  32.1504   4.4100\n",
       "160   Italy  Construction Minerals  1995  11.2880   7.8880   5.5897\n",
       "190   Italy                 Metals  1995  23.4810  51.2910  39.0507"
      ]
     },
     "execution_count": 39,
     "metadata": {},
     "output_type": "execute_result"
    }
   ],
   "source": [
    "const_1995.head()"
   ]
  },
  {
   "cell_type": "code",
   "execution_count": 40,
   "id": "5269ab94",
   "metadata": {},
   "outputs": [
    {
     "name": "stdout",
     "output_type": "stream",
     "text": [
      "number of duplicate rows:  (0, 6)\n"
     ]
    }
   ],
   "source": [
    "duplicate_rows=const1[const1.duplicated()] \n",
    "print('number of duplicate rows: ', duplicate_rows.shape)"
   ]
  },
  {
   "cell_type": "code",
   "execution_count": 41,
   "id": "1cd090cc",
   "metadata": {},
   "outputs": [
    {
     "data": {
      "text/html": [
       "<div>\n",
       "<style scoped>\n",
       "    .dataframe tbody tr th:only-of-type {\n",
       "        vertical-align: middle;\n",
       "    }\n",
       "\n",
       "    .dataframe tbody tr th {\n",
       "        vertical-align: top;\n",
       "    }\n",
       "\n",
       "    .dataframe thead th {\n",
       "        text-align: right;\n",
       "    }\n",
       "</style>\n",
       "<table border=\"1\" class=\"dataframe\">\n",
       "  <thead>\n",
       "    <tr style=\"text-align: right;\">\n",
       "      <th></th>\n",
       "      <th>country</th>\n",
       "      <th>group</th>\n",
       "    </tr>\n",
       "  </thead>\n",
       "  <tbody>\n",
       "    <tr>\n",
       "      <th>count</th>\n",
       "      <td>601</td>\n",
       "      <td>601</td>\n",
       "    </tr>\n",
       "    <tr>\n",
       "      <th>unique</th>\n",
       "      <td>8</td>\n",
       "      <td>3</td>\n",
       "    </tr>\n",
       "    <tr>\n",
       "      <th>top</th>\n",
       "      <td>Italy</td>\n",
       "      <td>Metals</td>\n",
       "    </tr>\n",
       "    <tr>\n",
       "      <th>freq</th>\n",
       "      <td>81</td>\n",
       "      <td>201</td>\n",
       "    </tr>\n",
       "  </tbody>\n",
       "</table>\n",
       "</div>"
      ],
      "text/plain": [
       "       country   group\n",
       "count      601     601\n",
       "unique       8       3\n",
       "top      Italy  Metals\n",
       "freq        81     201"
      ]
     },
     "execution_count": 41,
     "metadata": {},
     "output_type": "execute_result"
    }
   ],
   "source": [
    "const1.describe(include=object)"
   ]
  },
  {
   "cell_type": "code",
   "execution_count": 42,
   "id": "490a63c1",
   "metadata": {},
   "outputs": [
    {
     "name": "stdout",
     "output_type": "stream",
     "text": [
      "             year   exports   imports       gdp\n",
      "year     1.000000  0.142325  0.070714  0.096500\n",
      "exports  0.142325  1.000000  0.830168  0.244707\n",
      "imports  0.070714  0.830168  1.000000  0.438983\n",
      "gdp      0.096500  0.244707  0.438983  1.000000\n"
     ]
    }
   ],
   "source": [
    "# Checking the correlation between variables\n",
    "correlation = const1.corr()\n",
    "print(correlation)"
   ]
  },
  {
   "cell_type": "code",
   "execution_count": 44,
   "id": "cadf039a",
   "metadata": {},
   "outputs": [
    {
     "data": {
      "image/png": "[encoded data removed]",
      "text/plain": [
       "<Figure size 648x360 with 1 Axes>"
      ]
     },
     "metadata": {},
     "output_type": "display_data"
    }
   ],
   "source": [
    "#Ploting a scatter plot to stablish if there is any correlation between two variables\n",
    "\n",
    "fig, ax = plt.subplots(figsize=(9,5)) \n",
    "#sns.set_style('whitegrid')\n",
    "ax.scatter(const1['imports'], const1['gdp']) \n",
    "ax.set_xlabel('gdp') \n",
    "ax.set_ylabel('imports') \n",
    "plt.title(\"Correlation between imports and gdp in construction\");\n",
    "plt.show() "
   ]
  },
  {
   "cell_type": "code",
   "execution_count": 46,
   "id": "aeb016ab",
   "metadata": {},
   "outputs": [
    {
     "data": {
      "image/png": "[encoded data removed]",
      "text/plain": [
       "<Figure size 360x360 with 1 Axes>"
      ]
     },
     "metadata": {},
     "output_type": "display_data"
    }
   ],
   "source": [
    "# Visualizing the Planning_Permissions_Unit_Perm variable\n",
    "# It can be seen that data is positive skewed in this feature.\n",
    "sns.displot(data=const1, x=\"imports\", kde=True);"
   ]
  },
  {
   "cell_type": "code",
   "execution_count": 47,
   "id": "dd66c30f",
   "metadata": {},
   "outputs": [
    {
     "data": {
      "image/png": "[encoded data removed]",
      "text/plain": [
       "<Figure size 432x288 with 1 Axes>"
      ]
     },
     "metadata": {},
     "output_type": "display_data"
    }
   ],
   "source": [
    "# Visualizing a histogram to verify the shape of the data. It is positive skewed\n",
    "const1.hist(column='gdp');"
   ]
  },
  {
   "cell_type": "code",
   "execution_count": 48,
   "id": "a0135873",
   "metadata": {},
   "outputs": [
    {
     "data": {
      "image/png": "[encoded data removed]",
      "text/plain": [
       "<Figure size 432x288 with 1 Axes>"
      ]
     },
     "metadata": {},
     "output_type": "display_data"
    }
   ],
   "source": [
    "# Detecting Outliers\n",
    "# As it can be seen below, there are ouliers in each of the variables of my dataset.\n",
    "sns.boxplot(x=const1['imports']); "
   ]
  },
  {
   "cell_type": "code",
   "execution_count": 49,
   "id": "68c58c23",
   "metadata": {},
   "outputs": [
    {
     "data": {
      "image/png": "[encoded data removed]",
      "text/plain": [
       "<Figure size 432x288 with 1 Axes>"
      ]
     },
     "metadata": {},
     "output_type": "display_data"
    }
   ],
   "source": [
    "# Detecting Outliers\n",
    "# As it can be seen below, there are ouliers in each of the variables of my dataset.\n",
    "sns.boxplot(x=const1['gdp']); "
   ]
  }
 ],
 "metadata": {
  "kernelspec": {
   "display_name": "Python 3 (ipykernel)",
   "language": "python",
   "name": "python3"
  },
  "language_info": {
   "codemirror_mode": {
    "name": "ipython",
    "version": 3
   },
   "file_extension": ".py",
   "mimetype": "text/x-python",
   "name": "python",
   "nbconvert_exporter": "python",
   "pygments_lexer": "ipython3",
   "version": "3.9.12"
  }
 },
 "nbformat": 4,
 "nbformat_minor": 5
}
